{
 "cells": [
  {
   "cell_type": "code",
   "execution_count": 1,
   "metadata": {},
   "outputs": [],
   "source": [
    "from sklearn.model_selection import ParameterSampler\n",
    "import numpy as np\n",
    "from pathlib import Path\n",
    "from copy import deepcopy\n",
    "import json"
   ]
  },
  {
   "cell_type": "code",
   "execution_count": 3,
   "metadata": {},
   "outputs": [],
   "source": [
    "sampler = ParameterSampler(\n",
    "    param_distributions={'num_samples':list(range(100, 201, 10)),\n",
    "                         'temperature':np.linspace(1, 5, 10),\n",
    "                         'num_tokens_to_add': list(range(1, 11))},\n",
    "    n_iter = 70\n",
    ")"
   ]
  },
  {
   "cell_type": "code",
   "execution_count": 4,
   "metadata": {},
   "outputs": [],
   "source": [
    "CLF_PATH = \"./logs/age/target_clf/171151-1409-gru_with_amounts/model.tar.gz\"\n",
    "MASKED_LM_PATH = \"./presets/age/lm.model.tar.gz\"\n",
    "DATA_PATH = \"/notebook/morozov/data/age/test.jsonl\"\n",
    "OUTPUT_PATH = \"./results/brute_force\""
   ]
  },
  {
   "cell_type": "code",
   "execution_count": 5,
   "metadata": {},
   "outputs": [],
   "source": [
    "base_config={\n",
    "  \"data_path\": DATA_PATH,\n",
    "  \"output_path\": OUTPUT_PATH,\n",
    "  \"attacker\": {\n",
    "    \"type\": \"concat_sampling_fool\",\n",
    "    \"masked_lm\": {\n",
    "      \"type\": \"from_archive\",\n",
    "      \"archive_file\": MASKED_LM_PATH\n",
    "    },\n",
    "    \"classifier\": {\n",
    "      \"type\": \"from_archive\",\n",
    "      \"archive_file\": CLF_PATH\n",
    "    },\n",
    "    \"reader\": {\n",
    "      \"type\": \"from_archive\",\n",
    "      \"archive_file\": CLF_PATH\n",
    "    },\n",
    "    \"position\": \"end\",\n",
    "    \"num_tokens_to_add\": 2,\n",
    "    \"total_amount\": 5000,\n",
    "    \"num_samples\": 100,\n",
    "    \"temperature\": 1.5,\n",
    "    \"device\": 0\n",
    "  }\n",
    "}"
   ]
  },
  {
   "cell_type": "code",
   "execution_count": 6,
   "metadata": {},
   "outputs": [],
   "source": [
    "command = \"\"\"PYTHONPATH=. python advsber/commands/attack.py \\\n",
    "             {CONFIG_PATH} \\\n",
    "             --samples 500\"\"\"\n",
    "\n",
    "eval_command = \"\"\"PYTHONPATH=. python advsber/commands/evaluate.py {OUTPUT_PATH}\"\"\""
   ]
  },
  {
   "cell_type": "code",
   "execution_count": 7,
   "metadata": {},
   "outputs": [],
   "source": [
    "with open('brute_force_sf_gru_age.sh', 'w') as w:\n",
    "    for i, params in enumerate(sampler):\n",
    "    \n",
    "        params[\"total_amount\"] = np.random.uniform(100 * params['num_tokens_to_add'], 10000 * params['num_tokens_to_add'])\n",
    "        \n",
    "        exp_path = f\"results/brute_force/configs/exp_{i}/\"\n",
    "        Path(exp_path).mkdir(parents=True, exist_ok=True)\n",
    "        conf_path = f\"results/brute_force/configs/exp_{i}/config.json\"\n",
    "        output_path = f\"results/brute_force/configs/exp_{i}/output.json\"\n",
    "        save_to = f\"results/brute_force/configs/exp_{i}/res_exp.json\"\n",
    "        \n",
    "        config = deepcopy(base_config)\n",
    "        \n",
    "        for key in params.keys():\n",
    "            config[\"attacker\"][key] = params[key]\n",
    "            \n",
    "        config[\"output_path\"] = output_path\n",
    "        \n",
    "        with open(conf_path, 'w') as f:\n",
    "            json.dump(config, f)\n",
    "        \n",
    "        w.write(command.format(CONFIG_PATH=conf_path))\n",
    "        w.write('\\n')\n",
    "        w.write(eval_command.format(OUTPUT_PATH=output_path, SAVE_TO=save_to))\n",
    "        w.write('\\n')"
   ]
  },
  {
   "cell_type": "code",
   "execution_count": null,
   "metadata": {},
   "outputs": [],
   "source": []
  }
 ],
 "metadata": {
  "kernelspec": {
   "display_name": "Python 3",
   "language": "python",
   "name": "python3"
  },
  "language_info": {
   "codemirror_mode": {
    "name": "ipython",
    "version": 3
   },
   "file_extension": ".py",
   "mimetype": "text/x-python",
   "name": "python",
   "nbconvert_exporter": "python",
   "pygments_lexer": "ipython3",
   "version": "3.6.9"
  }
 },
 "nbformat": 4,
 "nbformat_minor": 4
}
