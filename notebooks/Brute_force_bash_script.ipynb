{
 "cells": [
  {
   "cell_type": "code",
   "execution_count": 56,
   "metadata": {},
   "outputs": [],
   "source": [
    "from sklearn.model_selection import ParameterSampler\n",
    "import numpy as np\n",
    "from pathlib import Path\n",
    "from copy import deepcopy\n",
    "import json"
   ]
  },
  {
   "cell_type": "code",
   "execution_count": 61,
   "metadata": {},
   "outputs": [],
   "source": [
    "sampler = ParameterSampler(\n",
    "    param_distributions={'num_samples':np.linspace(10, 200, 39),\n",
    "                         'temperature':np.linspace(1, 5, 30)},\n",
    "    n_iter = 1170\n",
    ")"
   ]
  },
  {
   "cell_type": "code",
   "execution_count": 62,
   "metadata": {},
   "outputs": [],
   "source": [
    "clf_path = \"notebook/morozov/Sberbank_project/adversarial_sber/logs/age/target_clf/171151-1409-gru_with_amounts/model.tar.gz\"\n",
    "MASKED_LM_PATH = \"./presets/age/lm.model.tar.gz\"\n",
    "CLF_PATH = \"/notebook/morozov/Sberbank_project/adversarial_sber/logs/age/target_clf/171151-1409-gru_with_amounts/model.tar.gz\"\n",
    "DATA_PATH = \"/notebook/morozov/data/age/test.jsonl\"\n",
    "output_path = \"./results/brute_force\""
   ]
  },
  {
   "cell_type": "code",
   "execution_count": 63,
   "metadata": {},
   "outputs": [],
   "source": [
    "base_config = {\n",
    "  \"data_path\": DATA_PATH,\n",
    "  \"output_path\": output_path,\n",
    "  \"attacker\": {\n",
    "    \"type\": \"sampling_fool\",\n",
    "    \"masked_lm\": {\n",
    "      \"type\": \"from_archive\",\n",
    "      \"archive_file\": MASKED_LM_PATH\n",
    "    },\n",
    "    \"classifier\": {\n",
    "      \"type\": \"from_archive\",\n",
    "      \"archive_file\": CLF_PATH\n",
    "    },\n",
    "    \"reader\": {\n",
    "      \"type\": \"from_archive\",\n",
    "      \"archive_file\": CLF_PATH\n",
    "    },\n",
    "    \"num_samples\": None,\n",
    "    \"temperature\": None,\n",
    "    \"device\": 0\n",
    "  }\n",
    "}"
   ]
  },
  {
   "cell_type": "code",
   "execution_count": 64,
   "metadata": {},
   "outputs": [],
   "source": [
    "command = \"\"\"PYTHONPATH=. python advsber/commands/attack.py \\\n",
    "             {CONFIG_PATH} \\\n",
    "             --samples 500\"\"\""
   ]
  },
  {
   "cell_type": "code",
   "execution_count": 67,
   "metadata": {},
   "outputs": [],
   "source": [
    "with open('brute_force_sf_gru_age.sh', 'w') as w:\n",
    "    for i, params in enumerate(sampler):\n",
    "        exp_path = f\"results/brute_force/dist/exp_{i}\"\n",
    "        Path(exp_path).mkdir(parents=True, exist_ok=True)\n",
    "        conf_path = f\"results/brute_force/dist/exp_{i}/config.json\"\n",
    "        config = deepcopy(base_config)\n",
    "        \n",
    "        for key in params.keys():\n",
    "            config[\"attacker\"][key] = params[key]\n",
    "        \n",
    "        with open(conf_path, 'w') as f:\n",
    "            json.dump(config, f)\n",
    "        \n",
    "        w.write(command.format(EXP_PATH=exp_path, CONFIG_PATH=conf_path))\n",
    "        w.write('\\n')"
   ]
  },
  {
   "cell_type": "code",
   "execution_count": null,
   "metadata": {},
   "outputs": [],
   "source": []
  }
 ],
 "metadata": {
  "kernelspec": {
   "display_name": "Python 3",
   "language": "python",
   "name": "python3"
  }
 },
 "nbformat": 4,
 "nbformat_minor": 4
}
